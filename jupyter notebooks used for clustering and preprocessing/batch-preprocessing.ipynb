{
 "cells": [
  {
   "cell_type": "code",
   "execution_count": 1,
   "metadata": {},
   "outputs": [],
   "source": [
    "#important packages for preprocessing\n",
    "import pandas as pd\n",
    "import nltk\n",
    "from bs4 import BeautifulSoup\n",
    "import string\n",
    "from nltk.corpus import stopwords\n",
    "from nltk.tokenize import word_tokenize\n",
    "from nltk.stem import WordNetLemmatizer\n",
    "from nltk.stem.porter import PorterStemmer\n",
    "import re"
   ]
  },
  {
   "cell_type": "code",
   "execution_count": 2,
   "metadata": {},
   "outputs": [],
   "source": [
    "#importing titles\n",
    "df1 = pd.read_csv('datasets/Papers.csv')"
   ]
  },
  {
   "cell_type": "code",
   "execution_count": 3,
   "metadata": {},
   "outputs": [
    {
     "data": {
      "text/html": [
       "<div>\n",
       "<style scoped>\n",
       "    .dataframe tbody tr th:only-of-type {\n",
       "        vertical-align: middle;\n",
       "    }\n",
       "\n",
       "    .dataframe tbody tr th {\n",
       "        vertical-align: top;\n",
       "    }\n",
       "\n",
       "    .dataframe thead th {\n",
       "        text-align: right;\n",
       "    }\n",
       "</style>\n",
       "<table border=\"1\" class=\"dataframe\">\n",
       "  <thead>\n",
       "    <tr style=\"text-align: right;\">\n",
       "      <th></th>\n",
       "      <th>Id</th>\n",
       "      <th>Title</th>\n",
       "      <th>EventType</th>\n",
       "      <th>PdfName</th>\n",
       "      <th>Abstract</th>\n",
       "      <th>PaperText</th>\n",
       "    </tr>\n",
       "  </thead>\n",
       "  <tbody>\n",
       "    <tr>\n",
       "      <td>0</td>\n",
       "      <td>5677</td>\n",
       "      <td>Double or Nothing: Multiplicative Incentive Me...</td>\n",
       "      <td>Poster</td>\n",
       "      <td>5677-double-or-nothing-multiplicative-incentiv...</td>\n",
       "      <td>Crowdsourcing has gained immense popularity in...</td>\n",
       "      <td>Double or Nothing: Multiplicative\\nIncentive M...</td>\n",
       "    </tr>\n",
       "    <tr>\n",
       "      <td>1</td>\n",
       "      <td>5941</td>\n",
       "      <td>Learning with Symmetric Label Noise: The Impor...</td>\n",
       "      <td>Spotlight</td>\n",
       "      <td>5941-learning-with-symmetric-label-noise-the-i...</td>\n",
       "      <td>Convex potential minimisation is the de facto ...</td>\n",
       "      <td>Learning with Symmetric Label Noise: The\\nImpo...</td>\n",
       "    </tr>\n",
       "    <tr>\n",
       "      <td>2</td>\n",
       "      <td>6019</td>\n",
       "      <td>Algorithmic Stability and Uniform Generalization</td>\n",
       "      <td>Poster</td>\n",
       "      <td>6019-algorithmic-stability-and-uniform-general...</td>\n",
       "      <td>One of the central questions in statistical le...</td>\n",
       "      <td>Algorithmic Stability and Uniform Generalizati...</td>\n",
       "    </tr>\n",
       "    <tr>\n",
       "      <td>3</td>\n",
       "      <td>6035</td>\n",
       "      <td>Adaptive Low-Complexity Sequential Inference f...</td>\n",
       "      <td>Poster</td>\n",
       "      <td>6035-adaptive-low-complexity-sequential-infere...</td>\n",
       "      <td>We develop a sequential low-complexity inferen...</td>\n",
       "      <td>Adaptive Low-Complexity Sequential Inference f...</td>\n",
       "    </tr>\n",
       "    <tr>\n",
       "      <td>4</td>\n",
       "      <td>5978</td>\n",
       "      <td>Covariance-Controlled Adaptive Langevin Thermo...</td>\n",
       "      <td>Poster</td>\n",
       "      <td>5978-covariance-controlled-adaptive-langevin-t...</td>\n",
       "      <td>Monte Carlo sampling for Bayesian posterior in...</td>\n",
       "      <td>Covariance-Controlled Adaptive Langevin\\nTherm...</td>\n",
       "    </tr>\n",
       "    <tr>\n",
       "      <td>5</td>\n",
       "      <td>5714</td>\n",
       "      <td>Robust Portfolio Optimization</td>\n",
       "      <td>Poster</td>\n",
       "      <td>5714-robust-portfolio-optimization.pdf</td>\n",
       "      <td>We propose a robust portfolio optimization app...</td>\n",
       "      <td>Robust Portfolio Optimization\\n\\nFang Han\\nDep...</td>\n",
       "    </tr>\n",
       "    <tr>\n",
       "      <td>6</td>\n",
       "      <td>5937</td>\n",
       "      <td>Logarithmic Time Online Multiclass prediction</td>\n",
       "      <td>Spotlight</td>\n",
       "      <td>5937-logarithmic-time-online-multiclass-predic...</td>\n",
       "      <td>We study the problem of multiclass classificat...</td>\n",
       "      <td>Logarithmic Time Online Multiclass prediction\\...</td>\n",
       "    </tr>\n",
       "    <tr>\n",
       "      <td>7</td>\n",
       "      <td>5802</td>\n",
       "      <td>Planar Ultrametrics for Image Segmentation</td>\n",
       "      <td>Poster</td>\n",
       "      <td>5802-planar-ultrametrics-for-image-segmentatio...</td>\n",
       "      <td>We study the problem of hierarchical clusterin...</td>\n",
       "      <td>Planar Ultrametrics for Image Segmentation\\n\\n...</td>\n",
       "    </tr>\n",
       "    <tr>\n",
       "      <td>8</td>\n",
       "      <td>5776</td>\n",
       "      <td>Expressing an Image Stream with a Sequence of ...</td>\n",
       "      <td>Poster</td>\n",
       "      <td>5776-expressing-an-image-stream-with-a-sequenc...</td>\n",
       "      <td>We propose an approach for generating a sequen...</td>\n",
       "      <td>Expressing an Image Stream with a Sequence of\\...</td>\n",
       "    </tr>\n",
       "    <tr>\n",
       "      <td>9</td>\n",
       "      <td>5814</td>\n",
       "      <td>Parallel Correlation Clustering on Big Graphs</td>\n",
       "      <td>Poster</td>\n",
       "      <td>5814-parallel-correlation-clustering-on-big-gr...</td>\n",
       "      <td>Given a similarity graph between items, correl...</td>\n",
       "      <td>Parallel Correlation Clustering on Big Graphs\\...</td>\n",
       "    </tr>\n",
       "  </tbody>\n",
       "</table>\n",
       "</div>"
      ],
      "text/plain": [
       "     Id                                              Title  EventType  \\\n",
       "0  5677  Double or Nothing: Multiplicative Incentive Me...     Poster   \n",
       "1  5941  Learning with Symmetric Label Noise: The Impor...  Spotlight   \n",
       "2  6019   Algorithmic Stability and Uniform Generalization     Poster   \n",
       "3  6035  Adaptive Low-Complexity Sequential Inference f...     Poster   \n",
       "4  5978  Covariance-Controlled Adaptive Langevin Thermo...     Poster   \n",
       "5  5714                      Robust Portfolio Optimization     Poster   \n",
       "6  5937      Logarithmic Time Online Multiclass prediction  Spotlight   \n",
       "7  5802         Planar Ultrametrics for Image Segmentation     Poster   \n",
       "8  5776  Expressing an Image Stream with a Sequence of ...     Poster   \n",
       "9  5814      Parallel Correlation Clustering on Big Graphs     Poster   \n",
       "\n",
       "                                             PdfName  \\\n",
       "0  5677-double-or-nothing-multiplicative-incentiv...   \n",
       "1  5941-learning-with-symmetric-label-noise-the-i...   \n",
       "2  6019-algorithmic-stability-and-uniform-general...   \n",
       "3  6035-adaptive-low-complexity-sequential-infere...   \n",
       "4  5978-covariance-controlled-adaptive-langevin-t...   \n",
       "5             5714-robust-portfolio-optimization.pdf   \n",
       "6  5937-logarithmic-time-online-multiclass-predic...   \n",
       "7  5802-planar-ultrametrics-for-image-segmentatio...   \n",
       "8  5776-expressing-an-image-stream-with-a-sequenc...   \n",
       "9  5814-parallel-correlation-clustering-on-big-gr...   \n",
       "\n",
       "                                            Abstract  \\\n",
       "0  Crowdsourcing has gained immense popularity in...   \n",
       "1  Convex potential minimisation is the de facto ...   \n",
       "2  One of the central questions in statistical le...   \n",
       "3  We develop a sequential low-complexity inferen...   \n",
       "4  Monte Carlo sampling for Bayesian posterior in...   \n",
       "5  We propose a robust portfolio optimization app...   \n",
       "6  We study the problem of multiclass classificat...   \n",
       "7  We study the problem of hierarchical clusterin...   \n",
       "8  We propose an approach for generating a sequen...   \n",
       "9  Given a similarity graph between items, correl...   \n",
       "\n",
       "                                           PaperText  \n",
       "0  Double or Nothing: Multiplicative\\nIncentive M...  \n",
       "1  Learning with Symmetric Label Noise: The\\nImpo...  \n",
       "2  Algorithmic Stability and Uniform Generalizati...  \n",
       "3  Adaptive Low-Complexity Sequential Inference f...  \n",
       "4  Covariance-Controlled Adaptive Langevin\\nTherm...  \n",
       "5  Robust Portfolio Optimization\\n\\nFang Han\\nDep...  \n",
       "6  Logarithmic Time Online Multiclass prediction\\...  \n",
       "7  Planar Ultrametrics for Image Segmentation\\n\\n...  \n",
       "8  Expressing an Image Stream with a Sequence of\\...  \n",
       "9  Parallel Correlation Clustering on Big Graphs\\...  "
      ]
     },
     "execution_count": 3,
     "metadata": {},
     "output_type": "execute_result"
    }
   ],
   "source": [
    "df1.head(10)"
   ]
  },
  {
   "cell_type": "code",
   "execution_count": 4,
   "metadata": {},
   "outputs": [
    {
     "data": {
      "text/html": [
       "<div>\n",
       "<style scoped>\n",
       "    .dataframe tbody tr th:only-of-type {\n",
       "        vertical-align: middle;\n",
       "    }\n",
       "\n",
       "    .dataframe tbody tr th {\n",
       "        vertical-align: top;\n",
       "    }\n",
       "\n",
       "    .dataframe thead th {\n",
       "        text-align: right;\n",
       "    }\n",
       "</style>\n",
       "<table border=\"1\" class=\"dataframe\">\n",
       "  <thead>\n",
       "    <tr style=\"text-align: right;\">\n",
       "      <th></th>\n",
       "      <th>Title</th>\n",
       "    </tr>\n",
       "  </thead>\n",
       "  <tbody>\n",
       "    <tr>\n",
       "      <td>0</td>\n",
       "      <td>Double or Nothing: Multiplicative Incentive Me...</td>\n",
       "    </tr>\n",
       "    <tr>\n",
       "      <td>1</td>\n",
       "      <td>Learning with Symmetric Label Noise: The Impor...</td>\n",
       "    </tr>\n",
       "    <tr>\n",
       "      <td>2</td>\n",
       "      <td>Algorithmic Stability and Uniform Generalization</td>\n",
       "    </tr>\n",
       "    <tr>\n",
       "      <td>3</td>\n",
       "      <td>Adaptive Low-Complexity Sequential Inference f...</td>\n",
       "    </tr>\n",
       "    <tr>\n",
       "      <td>4</td>\n",
       "      <td>Covariance-Controlled Adaptive Langevin Thermo...</td>\n",
       "    </tr>\n",
       "  </tbody>\n",
       "</table>\n",
       "</div>"
      ],
      "text/plain": [
       "                                               Title\n",
       "0  Double or Nothing: Multiplicative Incentive Me...\n",
       "1  Learning with Symmetric Label Noise: The Impor...\n",
       "2   Algorithmic Stability and Uniform Generalization\n",
       "3  Adaptive Low-Complexity Sequential Inference f...\n",
       "4  Covariance-Controlled Adaptive Langevin Thermo..."
      ]
     },
     "execution_count": 4,
     "metadata": {},
     "output_type": "execute_result"
    }
   ],
   "source": [
    "raw_data = df1.iloc[:,[1,4,5]]\n",
    "raw_data.loc[:,['Title']].head()"
   ]
  },
  {
   "cell_type": "code",
   "execution_count": 5,
   "metadata": {},
   "outputs": [],
   "source": [
    "#to remove html from abstract or title\n",
    "def remove_html(text):\n",
    "    text = text.lower()\n",
    "    soup = BeautifulSoup(text,'lxml')\n",
    "    html_free = soup.get_text()\n",
    "    return html_free"
   ]
  },
  {
   "cell_type": "code",
   "execution_count": 6,
   "metadata": {},
   "outputs": [],
   "source": [
    "#to remove punctuation\n",
    "def remove_punctuation(text):\n",
    "    string.punctuation = string.punctuation.replace('.', '');\n",
    "    no_punct = \"\".join([c for c in text if c not in string.punctuation])\n",
    "    return no_punct"
   ]
  },
  {
   "cell_type": "code",
   "execution_count": 7,
   "metadata": {},
   "outputs": [],
   "source": [
    "#to remove stop words\n",
    "def remove_stopwords(text):\n",
    "    stop_words = set(stopwords.words('english'))\n",
    "    text = word_tokenize(text)\n",
    "    text = [w for w in text if not w in stop_words]\n",
    "    return text"
   ]
  },
  {
   "cell_type": "code",
   "execution_count": 8,
   "metadata": {},
   "outputs": [],
   "source": [
    "#Instantiate Lemmatizer\n",
    "lemmatizer = WordNetLemmatizer()"
   ]
  },
  {
   "cell_type": "code",
   "execution_count": 9,
   "metadata": {},
   "outputs": [],
   "source": [
    "\n",
    "def word_lemmatizer(text):\n",
    "    text = [lemmatizer.lemmatize(word) for word in text]\n",
    "    return text"
   ]
  },
  {
   "cell_type": "code",
   "execution_count": 10,
   "metadata": {},
   "outputs": [],
   "source": [
    "#remove numbers\n",
    "def remove_numbers(text):\n",
    "    number_free = re.sub(\"(\\\\d|\\\\W)\\.+\",\" \",text)\n",
    "    return number_free"
   ]
  },
  {
   "cell_type": "code",
   "execution_count": 11,
   "metadata": {},
   "outputs": [],
   "source": [
    "def breakSentence(text):\n",
    "    text = ' '.join(text)\n",
    "    text = text.split('.')\n",
    "    text = list(filter(None, text))\n",
    "\n",
    "    return text"
   ]
  },
  {
   "cell_type": "code",
   "execution_count": 12,
   "metadata": {},
   "outputs": [],
   "source": [
    "#remove numbers\n",
    "def abs_remove_numbers(text):\n",
    "    number_free = re.sub(\"(\\\\d|\\\\W)+\",\" \",text)\n",
    "    return number_free"
   ]
  },
  {
   "cell_type": "code",
   "execution_count": 13,
   "metadata": {},
   "outputs": [],
   "source": [
    "#to remove punctuation\n",
    "def abs_remove_punctuation(text):\n",
    "    no_punct = \"\".join([c for c in text if c not in string.punctuation])\n",
    "    return no_punct"
   ]
  },
  {
   "cell_type": "code",
   "execution_count": 14,
   "metadata": {},
   "outputs": [
    {
     "name": "stderr",
     "output_type": "stream",
     "text": [
      "C:\\Users\\codester\\Anaconda3\\lib\\site-packages\\pandas\\core\\indexing.py:576: SettingWithCopyWarning: \n",
      "A value is trying to be set on a copy of a slice from a DataFrame.\n",
      "Try using .loc[row_indexer,col_indexer] = value instead\n",
      "\n",
      "See the caveats in the documentation: http://pandas.pydata.org/pandas-docs/stable/user_guide/indexing.html#returning-a-view-versus-a-copy\n",
      "  self.obj[item_labels[indexer[info_axis]]] = value\n"
     ]
    }
   ],
   "source": [
    "raw_data.loc[:,'Title'] = raw_data.loc[:,'Title'].apply(lambda x: remove_numbers(x))\n",
    "raw_data.loc[:,'Title'] = raw_data.loc[:,'Title'].apply(lambda x: remove_html(x))\n",
    "raw_data.loc[:,'Title'] = raw_data.loc[:,'Title'].apply(lambda x: remove_punctuation(x))"
   ]
  },
  {
   "cell_type": "code",
   "execution_count": 15,
   "metadata": {},
   "outputs": [],
   "source": []
  },
  {
   "cell_type": "code",
   "execution_count": null,
   "metadata": {},
   "outputs": [],
   "source": [
    "raw_data.loc[:,'Abstract'] = raw_data.loc[:,'Abstract'].apply(lambda x: abs_remove_punctuation(x))\n",
    "raw_data.loc[:,'Abstract'] = raw_data.loc[:,'Abstract'].apply(lambda x: remove_html(x))\n",
    "raw_data.loc[:,'Abstract'] = raw_data.loc[:,'Abstract'].apply(lambda x: remove_stopwords(x))\n",
    "raw_data.loc[:,'Abstract'] = raw_data.loc[:,'Abstract'].apply(lambda x: word_lemmatizer(x))"
   ]
  },
  {
   "cell_type": "code",
   "execution_count": 16,
   "metadata": {},
   "outputs": [
    {
     "data": {
      "text/html": [
       "<div>\n",
       "<style scoped>\n",
       "    .dataframe tbody tr th:only-of-type {\n",
       "        vertical-align: middle;\n",
       "    }\n",
       "\n",
       "    .dataframe tbody tr th {\n",
       "        vertical-align: top;\n",
       "    }\n",
       "\n",
       "    .dataframe thead th {\n",
       "        text-align: right;\n",
       "    }\n",
       "</style>\n",
       "<table border=\"1\" class=\"dataframe\">\n",
       "  <thead>\n",
       "    <tr style=\"text-align: right;\">\n",
       "      <th></th>\n",
       "      <th>Title</th>\n",
       "      <th>Abstract</th>\n",
       "      <th>PaperText</th>\n",
       "    </tr>\n",
       "  </thead>\n",
       "  <tbody>\n",
       "    <tr>\n",
       "      <td>0</td>\n",
       "      <td>double or nothing multiplicative incentive mec...</td>\n",
       "      <td>[crowdsourcing, gained, immense, popularity, m...</td>\n",
       "      <td>Double or Nothing: Multiplicative\\nIncentive M...</td>\n",
       "    </tr>\n",
       "    <tr>\n",
       "      <td>1</td>\n",
       "      <td>learning with symmetric label noise the import...</td>\n",
       "      <td>[convex, potential, minimisation, de, facto, a...</td>\n",
       "      <td>Learning with Symmetric Label Noise: The\\nImpo...</td>\n",
       "    </tr>\n",
       "    <tr>\n",
       "      <td>2</td>\n",
       "      <td>algorithmic stability and uniform generalization</td>\n",
       "      <td>[one, central, question, statistical, learning...</td>\n",
       "      <td>Algorithmic Stability and Uniform Generalizati...</td>\n",
       "    </tr>\n",
       "    <tr>\n",
       "      <td>3</td>\n",
       "      <td>adaptive lowcomplexity sequential inference fo...</td>\n",
       "      <td>[develop, sequential, low, complexity, inferen...</td>\n",
       "      <td>Adaptive Low-Complexity Sequential Inference f...</td>\n",
       "    </tr>\n",
       "    <tr>\n",
       "      <td>4</td>\n",
       "      <td>covariancecontrolled adaptive langevin thermos...</td>\n",
       "      <td>[monte, carlo, sampling, bayesian, posterior, ...</td>\n",
       "      <td>Covariance-Controlled Adaptive Langevin\\nTherm...</td>\n",
       "    </tr>\n",
       "    <tr>\n",
       "      <td>5</td>\n",
       "      <td>robust portfolio optimization</td>\n",
       "      <td>[propose, robust, portfolio, optimization, app...</td>\n",
       "      <td>Robust Portfolio Optimization\\n\\nFang Han\\nDep...</td>\n",
       "    </tr>\n",
       "    <tr>\n",
       "      <td>6</td>\n",
       "      <td>logarithmic time online multiclass prediction</td>\n",
       "      <td>[study, problem, multiclass, classification, e...</td>\n",
       "      <td>Logarithmic Time Online Multiclass prediction\\...</td>\n",
       "    </tr>\n",
       "    <tr>\n",
       "      <td>7</td>\n",
       "      <td>planar ultrametrics for image segmentation</td>\n",
       "      <td>[study, problem, hierarchical, clustering, pla...</td>\n",
       "      <td>Planar Ultrametrics for Image Segmentation\\n\\n...</td>\n",
       "    </tr>\n",
       "    <tr>\n",
       "      <td>8</td>\n",
       "      <td>expressing an image stream with a sequence of ...</td>\n",
       "      <td>[propose, approach, generating, sequence, natu...</td>\n",
       "      <td>Expressing an Image Stream with a Sequence of\\...</td>\n",
       "    </tr>\n",
       "    <tr>\n",
       "      <td>9</td>\n",
       "      <td>parallel correlation clustering on big graphs</td>\n",
       "      <td>[given, similarity, graph, item, correlation, ...</td>\n",
       "      <td>Parallel Correlation Clustering on Big Graphs\\...</td>\n",
       "    </tr>\n",
       "  </tbody>\n",
       "</table>\n",
       "</div>"
      ],
      "text/plain": [
       "                                               Title  \\\n",
       "0  double or nothing multiplicative incentive mec...   \n",
       "1  learning with symmetric label noise the import...   \n",
       "2   algorithmic stability and uniform generalization   \n",
       "3  adaptive lowcomplexity sequential inference fo...   \n",
       "4  covariancecontrolled adaptive langevin thermos...   \n",
       "5                      robust portfolio optimization   \n",
       "6      logarithmic time online multiclass prediction   \n",
       "7         planar ultrametrics for image segmentation   \n",
       "8  expressing an image stream with a sequence of ...   \n",
       "9      parallel correlation clustering on big graphs   \n",
       "\n",
       "                                            Abstract  \\\n",
       "0  [crowdsourcing, gained, immense, popularity, m...   \n",
       "1  [convex, potential, minimisation, de, facto, a...   \n",
       "2  [one, central, question, statistical, learning...   \n",
       "3  [develop, sequential, low, complexity, inferen...   \n",
       "4  [monte, carlo, sampling, bayesian, posterior, ...   \n",
       "5  [propose, robust, portfolio, optimization, app...   \n",
       "6  [study, problem, multiclass, classification, e...   \n",
       "7  [study, problem, hierarchical, clustering, pla...   \n",
       "8  [propose, approach, generating, sequence, natu...   \n",
       "9  [given, similarity, graph, item, correlation, ...   \n",
       "\n",
       "                                           PaperText  \n",
       "0  Double or Nothing: Multiplicative\\nIncentive M...  \n",
       "1  Learning with Symmetric Label Noise: The\\nImpo...  \n",
       "2  Algorithmic Stability and Uniform Generalizati...  \n",
       "3  Adaptive Low-Complexity Sequential Inference f...  \n",
       "4  Covariance-Controlled Adaptive Langevin\\nTherm...  \n",
       "5  Robust Portfolio Optimization\\n\\nFang Han\\nDep...  \n",
       "6  Logarithmic Time Online Multiclass prediction\\...  \n",
       "7  Planar Ultrametrics for Image Segmentation\\n\\n...  \n",
       "8  Expressing an Image Stream with a Sequence of\\...  \n",
       "9  Parallel Correlation Clustering on Big Graphs\\...  "
      ]
     },
     "execution_count": 16,
     "metadata": {},
     "output_type": "execute_result"
    }
   ],
   "source": [
    "raw_data.head(10)"
   ]
  },
  {
   "cell_type": "code",
   "execution_count": 17,
   "metadata": {},
   "outputs": [],
   "source": [
    "raw_data.loc[:,'PaperText'] = raw_data.loc[:,'PaperText'].apply(lambda x: abs_remove_numbers(x))\n",
    "raw_data.loc[:,'PaperText'] = raw_data.loc[:,'PaperText'].apply(lambda x: abs_remove_punctuation(x))\n",
    "raw_data.loc[:,'PaperText'] = raw_data.loc[:,'PaperText'].apply(lambda x: remove_html(x))\n",
    "raw_data.loc[:,'PaperText'] = raw_data.loc[:,'PaperText'].apply(lambda x: remove_stopwords(x))\n",
    "raw_data.loc[:,'PaperText'] = raw_data.loc[:,'PaperText'].apply(lambda x: word_lemmatizer(x))"
   ]
  },
  {
   "cell_type": "code",
   "execution_count": 24,
   "metadata": {},
   "outputs": [
    {
     "data": {
      "text/plain": [
       "1209"
      ]
     },
     "execution_count": 24,
     "metadata": {},
     "output_type": "execute_result"
    }
   ],
   "source": [
    "raw_data.size"
   ]
  },
  {
   "cell_type": "code",
   "execution_count": 19,
   "metadata": {},
   "outputs": [],
   "source": [
    "# raw_data.to_csv(r'datasets\\preprocessed.csv', index=None, sep='\\t', mode='a')"
   ]
  },
  {
   "cell_type": "code",
   "execution_count": 23,
   "metadata": {},
   "outputs": [],
   "source": [
    "raw_data.to_csv(r'datasets\\preprocessed-data2.csv', index=None, mode='a')"
   ]
  },
  {
   "cell_type": "code",
   "execution_count": 21,
   "metadata": {},
   "outputs": [],
   "source": [
    "# raw_data.loc[:,['Title','Abstract']].apply(lambda x: remove_punctuation(x))"
   ]
  },
  {
   "cell_type": "code",
   "execution_count": 22,
   "metadata": {},
   "outputs": [],
   "source": [
    "def operation(x):\n",
    "#     title,document = x;\n",
    "    print(x)"
   ]
  },
  {
   "cell_type": "code",
   "execution_count": null,
   "metadata": {},
   "outputs": [],
   "source": []
  }
 ],
 "metadata": {
  "kernelspec": {
   "display_name": "Python 3",
   "language": "python",
   "name": "python3"
  },
  "language_info": {
   "codemirror_mode": {
    "name": "ipython",
    "version": 3
   },
   "file_extension": ".py",
   "mimetype": "text/x-python",
   "name": "python",
   "nbconvert_exporter": "python",
   "pygments_lexer": "ipython3",
   "version": "3.7.4"
  }
 },
 "nbformat": 4,
 "nbformat_minor": 2
}
